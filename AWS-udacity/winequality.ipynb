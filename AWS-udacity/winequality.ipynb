{
 "cells": [
  {
   "cell_type": "markdown",
   "source": [
    "# Refactor: Wine Quality Analysis\n",
    "In this exercise, you'll refactor code that analyzes a wine quality dataset taken from the UCI Machine Learning Repository [here](https://archive.ics.uci.edu/ml/datasets/wine+quality). Each row contains data on a wine sample, including several physicochemical properties gathered from tests, as well as a quality rating evaluated by wine experts.\n",
    "\n",
    "The code in this notebook first renames the columns of the dataset and then calculates some statistics on how some features may be related to quality ratings. Can you refactor this code to make it more clean and modular?"
   ],
   "metadata": {}
  },
  {
   "cell_type": "code",
   "execution_count": null,
   "source": [
    "import pandas as pd\r\n",
    "df = pd.read_csv('winequality-red.csv', sep=';')\r\n",
    "df.head()"
   ],
   "outputs": [],
   "metadata": {}
  },
  {
   "cell_type": "markdown",
   "source": [
    "### Renaming Columns\n",
    "You want to replace the spaces in the column labels with underscores to be able to reference columns with dot notation. Here's one way you could've done it."
   ],
   "metadata": {}
  },
  {
   "cell_type": "code",
   "execution_count": null,
   "source": [
    "new_df = df.rename(columns={'fixed acidity': 'fixed_acidity',\r\n",
    "                             'volatile acidity': 'volatile_acidity',\r\n",
    "                             'citric acid': 'citric_acid',\r\n",
    "                             'residual sugar': 'residual_sugar',\r\n",
    "                             'free sulfur dioxide': 'free_sulfur_dioxide',\r\n",
    "                             'total sulfur dioxide': 'total_sulfur_dioxide'\r\n",
    "                            })\r\n",
    "new_df.head()"
   ],
   "outputs": [],
   "metadata": {}
  },
  {
   "cell_type": "markdown",
   "source": [
    "And here's a slightly better way you could do it. You can avoid making naming errors due to typos caused by manual typing. However, this looks a little repetitive. Can you make it better?"
   ],
   "metadata": {}
  },
  {
   "cell_type": "code",
   "execution_count": null,
   "source": [
    "labels = list(df.columns)\r\n",
    "labels[0] = labels[0].replace(' ', '_')\r\n",
    "labels[1] = labels[1].replace(' ', '_')\r\n",
    "labels[2] = labels[2].replace(' ', '_')\r\n",
    "labels[3] = labels[3].replace(' ', '_')\r\n",
    "labels[5] = labels[5].replace(' ', '_')\r\n",
    "labels[6] = labels[6].replace(' ', '_')\r\n",
    "df.columns = labels\r\n",
    "\r\n",
    "df.head()"
   ],
   "outputs": [],
   "metadata": {}
  },
  {
   "cell_type": "markdown",
   "source": [
    "### Analyzing Features\n",
    "Now that your columns are ready, you want to see how different features of this dataset relate to the quality rating of the wine. A very simple way you could do this is by observing the mean quality rating for the top and bottom half of each feature. The code below does this for four features. It looks pretty repetitive right now. Can you make this more concise? \n",
    "\n",
    "You might challenge yourself to figure out how to make this code more efficient! But you don't need to worry too much about efficiency right now - we will cover that more in the next section."
   ],
   "metadata": {}
  },
  {
   "cell_type": "code",
   "execution_count": null,
   "source": [
    "median_alcohol = df.alcohol.median()\r\n",
    "for i, alcohol in enumerate(df.alcohol):\r\n",
    "    if alcohol >= median_alcohol:\r\n",
    "        df.loc[i, 'alcohol'] = 'high'\r\n",
    "    else:\r\n",
    "        df.loc[i, 'alcohol'] = 'low'\r\n",
    "df.groupby('alcohol').quality.mean()"
   ],
   "outputs": [],
   "metadata": {}
  },
  {
   "cell_type": "code",
   "execution_count": null,
   "source": [
    "median_pH = df.pH.median()\r\n",
    "for i, pH in enumerate(df.pH):\r\n",
    "    if pH >= median_pH:\r\n",
    "        df.loc[i, 'pH'] = 'high'\r\n",
    "    else:\r\n",
    "        df.loc[i, 'pH'] = 'low'\r\n",
    "df.groupby('pH').quality.mean()"
   ],
   "outputs": [],
   "metadata": {}
  },
  {
   "cell_type": "code",
   "execution_count": null,
   "source": [
    "median_sugar = df.residual_sugar.median()\r\n",
    "for i, sugar in enumerate(df.residual_sugar):\r\n",
    "    if sugar >= median_sugar:\r\n",
    "        df.loc[i, 'residual_sugar'] = 'high'\r\n",
    "    else:\r\n",
    "        df.loc[i, 'residual_sugar'] = 'low'\r\n",
    "df.groupby('residual_sugar').quality.mean()"
   ],
   "outputs": [],
   "metadata": {}
  },
  {
   "cell_type": "code",
   "execution_count": null,
   "source": [
    "median_citric_acid = df.citric_acid.median()\r\n",
    "for i, citric_acid in enumerate(df.citric_acid):\r\n",
    "    if citric_acid >= median_citric_acid:\r\n",
    "        df.loc[i, 'citric_acid'] = 'high'\r\n",
    "    else:\r\n",
    "        df.loc[i, 'citric_acid'] = 'low'\r\n",
    "df.groupby('citric_acid').quality.mean()"
   ],
   "outputs": [],
   "metadata": {}
  },
  {
   "cell_type": "code",
   "execution_count": null,
   "source": [
    "#CORRECT CODE\r\n",
    "import pandas as pd\r\n",
    "df = pd.read_csv('winequality-red.csv', sep=';')\r\n",
    "df.head()\r\n",
    "\r\n",
    "## Renaming Columns\r\n",
    "\r\n",
    "df.columns = [label.replace(' ', '_') for label in df.columns]\r\n",
    "df.head()\r\n",
    "\r\n",
    "## Analyzing Features\r\n",
    "\r\n",
    "def numeric_to_buckets(df, column_name):\r\n",
    "    median = df[column_name].median()\r\n",
    "    for i, val in enumerate(df[column_name]):\r\n",
    "        if val >= median:\r\n",
    "            df.loc[i, column_name] = 'high'\r\n",
    "        else:\r\n",
    "            df.loc[i, column_name] = 'low' \r\n",
    "\r\n",
    "for feature in df.columns[:-1]:\r\n",
    "    numeric_to_buckets(df, feature)\r\n",
    "    print(df.groupby(feature).quality.mean(), '\\n')"
   ],
   "outputs": [],
   "metadata": {}
  }
 ],
 "metadata": {
  "kernelspec": {
   "display_name": "Python 3",
   "language": "python",
   "name": "python3"
  },
  "language_info": {
   "codemirror_mode": {
    "name": "ipython",
    "version": 3
   },
   "file_extension": ".py",
   "mimetype": "text/x-python",
   "name": "python",
   "nbconvert_exporter": "python",
   "pygments_lexer": "ipython3",
   "version": "3.6.3"
  }
 },
 "nbformat": 4,
 "nbformat_minor": 2
}